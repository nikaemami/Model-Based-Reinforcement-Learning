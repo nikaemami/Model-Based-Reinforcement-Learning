{
 "cells": [
  {
   "cell_type": "markdown",
   "metadata": {
    "id": "QO5f5fjQCxc2"
   },
   "source": [
    "# **Question 2:**"
   ]
  },
  {
   "cell_type": "code",
   "execution_count": 34,
   "metadata": {
    "id": "EN7Opo_qDOlt"
   },
   "outputs": [],
   "source": [
    "import numpy as np\n",
    "import sys\n",
    "import matplotlib.pyplot as plt"
   ]
  },
  {
   "cell_type": "markdown",
   "metadata": {
    "id": "FtpvjnjOejRg"
   },
   "source": [
    "For modeling this problem, we need to determine states, actions, and rewards.\n",
    "\n",
    "**State:** The gambler’s capital, s ∈ {1, 2, . . . , 99}\n",
    "\n",
    "**Actions:** The stakes, a ∈ {0, 1, . . . , min(s, 100 − s)}. \n",
    "\n",
    "**Rewards:** The reward is zero on all transitions except those on which the gambler reaches his goal, which is +1."
   ]
  },
  {
   "cell_type": "markdown",
   "metadata": {
    "id": "5tFxHGjCV16y"
   },
   "source": [
    "Next, I implement a function to calculate the **value** for all actions in a state. This function gets the gambler's capital, the values at each state, the reward vector, and returns the expected value of each action. \n",
    "\n",
    "This function uses the **Bellman equation**: The expected value of the action is the sum of immediate rewards and the value of the next state: \n",
    "\n",
    "Rewards[Capital+Stake] and Rewards[Capital-Stake] are the **immediate rewards.**\n",
    "\n",
    "Values[Capital+Stake]and Values[Capital-Stake] are **values** of the next states."
   ]
  },
  {
   "cell_type": "code",
   "execution_count": 35,
   "metadata": {
    "id": "ppLQakMgWQNi"
   },
   "outputs": [],
   "source": [
    "def Action_Value_Calc(p_h, discount_factor, Capital, V, rewards):\n",
    "\n",
    "        Expected_Values = np.zeros(101)\n",
    "        possible_stakes = range(1, min(Capital, 100-Capital)+1)\n",
    "        for Stake in possible_stakes:\n",
    "            Expected_Values[Stake] = p_h * (rewards[Capital+Stake] + V[Capital+Stake]*discount_factor) + (1-p_h) * (rewards[Capital-Stake] + V[Capital-Stake]*discount_factor)\n",
    "        return Expected_Values"
   ]
  },
  {
   "cell_type": "markdown",
   "metadata": {
    "id": "ljJOrMcbcVsw"
   },
   "source": [
    "Next, I implement the value iteration function as below. \n",
    "\n",
    "First, I define a stopping value, which I will update at the end of each iteration. The algorithm stops when the difference between the new and old state values is smaller than a threshold.\n",
    "\n",
    "In each iteration, I go through all the states, and for each state I calculate all the action values for all possible actions, and choose the best action value as the new state value. \n",
    "\n",
    "After all the state values have been updated, I create the optimal policy by using the maximum calculated values."
   ]
  },
  {
   "cell_type": "code",
   "execution_count": 36,
   "metadata": {
    "id": "0y6g1Bed35YJ"
   },
   "outputs": [],
   "source": [
    "def Value_Iteration(p_h, threshold , discount_factor):\n",
    "\n",
    "    rewards = np.zeros(101)\n",
    "    rewards[100] = 1 \n",
    "    values = np.zeros(101)\n",
    "    \n",
    "    while True:\n",
    "        condition_val = 0\n",
    "        for state in range(1, 100):\n",
    "            Action_values = Action_Value_Calc(p_h, discount_factor, state, values, rewards)\n",
    "            best_action_value = np.max(Action_values)\n",
    "            condition_val = max(condition_val, np.abs(best_action_value - values[state]))\n",
    "            values[state] = best_action_value        \n",
    "        if condition_val < threshold:\n",
    "            break\n",
    "    \n",
    "    policy = np.zeros(100)\n",
    "    for state in range(1, 100):\n",
    "        Action_values = Action_Value_Calc(p_h, discount_factor, state, values, rewards)\n",
    "        best_action = np.argmax(Action_values)\n",
    "        policy[state] = best_action\n",
    "    \n",
    "    return policy, values"
   ]
  },
  {
   "cell_type": "markdown",
   "metadata": {
    "id": "9IS5ymwj9iuQ"
   },
   "source": [
    "Next, for better understanding of the results, I define two functions for graphic visualizations.\n",
    "\n",
    "The first function plots **Value Estimates** for different Capital values as below:"
   ]
  },
  {
   "cell_type": "code",
   "execution_count": 58,
   "metadata": {
    "id": "LuIcDn6Q7y9B"
   },
   "outputs": [],
   "source": [
    "def plot_values(values):\n",
    "  x = range(100)\n",
    "  y = values[:100]\n",
    "  plt.plot(x, y)\n",
    "  plt.xlabel('Capital')\n",
    "  plt.ylabel('Value Estimates')\n",
    "  plt.title('Value Estimates-Capital')\n",
    "  plt.show()"
   ]
  },
  {
   "cell_type": "markdown",
   "metadata": {
    "id": "MvxK6s28-FPZ"
   },
   "source": [
    "The second function plots the **Final Policy** for different Capitals:"
   ]
  },
  {
   "cell_type": "code",
   "execution_count": 59,
   "metadata": {
    "id": "oKLGCvB280e0"
   },
   "outputs": [],
   "source": [
    "def plot_policy(policy):\n",
    "  x = range(100)\n",
    "  y = policy\n",
    "  plt.bar(x, y)\n",
    "  plt.xlabel('Capital')\n",
    "  plt.ylabel('Final Policy')\n",
    "  plt.title('Final Policy-Capital')\n",
    "  plt.show()"
   ]
  },
  {
   "cell_type": "markdown",
   "metadata": {
    "id": "5_sKGt6T6_kg"
   },
   "source": [
    "Results for **p_h = 0.25**:"
   ]
  },
  {
   "cell_type": "code",
   "execution_count": 60,
   "metadata": {
    "colab": {
     "base_uri": "https://localhost:8080/",
     "height": 1000
    },
    "id": "OFJ5RtQ13_9_",
    "outputId": "5dd13298-3999-48ae-d854-668958bc757f"
   },
   "outputs": [
    {
     "name": "stdout",
     "output_type": "stream",
     "text": [
      "Policy: [ 0.  1.  2.  3.  4.  5.  6.  7.  8.  9. 10. 11. 12. 12. 11. 15. 16. 17.\n",
      " 18.  6. 20. 21.  3. 23. 24. 25.  1.  2.  3.  4.  5.  6.  7.  8.  9. 10.\n",
      " 11. 12. 38. 11. 10.  9. 42.  7. 44.  5. 46. 47. 48. 49. 50.  1.  2.  3.\n",
      "  4.  5.  6.  7.  8.  9. 10. 11. 12. 13. 11. 10.  9. 17.  7. 19.  5. 21.\n",
      " 22. 23. 24. 25.  1.  2.  3.  4.  5.  6.  7.  8.  9. 10. 11. 12. 12. 11.\n",
      " 10.  9.  8.  7.  6.  5.  4.  3.  2.  1.]\n",
      "Value Functions: [0.00000000e+00 7.24792480e-05 2.89916992e-04 6.95257448e-04\n",
      " 1.16010383e-03 1.76906586e-03 2.78102979e-03 4.03504074e-03\n",
      " 4.66214120e-03 5.59997559e-03 7.08471239e-03 9.03964043e-03\n",
      " 1.11241192e-02 1.56793594e-02 1.61464431e-02 1.69517994e-02\n",
      " 1.86512806e-02 1.98249817e-02 2.24047303e-02 2.73845196e-02\n",
      " 2.83388495e-02 3.04937363e-02 3.61633897e-02 3.84953022e-02\n",
      " 4.44964767e-02 6.25000000e-02 6.27174377e-02 6.33700779e-02\n",
      " 6.45857723e-02 6.59966059e-02 6.78135343e-02 7.08430894e-02\n",
      " 7.46098323e-02 7.64884604e-02 7.93035477e-02 8.37541372e-02\n",
      " 8.96225423e-02 9.58723575e-02 1.09538078e-01 1.10939329e-01\n",
      " 1.13360151e-01 1.18457374e-01 1.21977661e-01 1.29716907e-01\n",
      " 1.44653559e-01 1.47520113e-01 1.53983246e-01 1.70990169e-01\n",
      " 1.77987434e-01 1.95990576e-01 2.50000000e-01 2.50217438e-01\n",
      " 2.50870078e-01 2.52085772e-01 2.53496606e-01 2.55313534e-01\n",
      " 2.58343089e-01 2.62109832e-01 2.63988460e-01 2.66803548e-01\n",
      " 2.71254137e-01 2.77122542e-01 2.83372357e-01 2.97038078e-01\n",
      " 2.98439329e-01 3.00860151e-01 3.05957374e-01 3.09477661e-01\n",
      " 3.17216907e-01 3.32153559e-01 3.35020113e-01 3.41483246e-01\n",
      " 3.58490169e-01 3.65487434e-01 3.83490576e-01 4.37500000e-01\n",
      " 4.38152558e-01 4.40122454e-01 4.43757317e-01 4.47991345e-01\n",
      " 4.53440603e-01 4.62529268e-01 4.73829497e-01 4.79468031e-01\n",
      " 4.87912680e-01 5.01265085e-01 5.18867627e-01 5.37617932e-01\n",
      " 5.78614419e-01 5.82817988e-01 5.90080452e-01 6.05372123e-01\n",
      " 6.15934510e-01 6.39150720e-01 6.83960814e-01 6.92560339e-01\n",
      " 7.11950883e-01 7.62970611e-01 7.83963162e-01 8.37972371e-01\n",
      " 0.00000000e+00]\n"
     ]
    },
    {
     "data": {
      "image/png": "[encoded data removed]",
      "text/plain": [
       "<Figure size 432x288 with 1 Axes>"
      ]
     },
     "metadata": {
      "needs_background": "light"
     },
     "output_type": "display_data"
    },
    {
     "data": {
      "image/png": "[encoded data removed]",
      "text/plain": [
       "<Figure size 432x288 with 1 Axes>"
      ]
     },
     "metadata": {
      "needs_background": "light"
     },
     "output_type": "display_data"
    }
   ],
   "source": [
    "Stopping_Threshold = 0.0001\n",
    "discount_factor = 1.0\n",
    "p_h = 0.25\n",
    "policy, values = Value_Iteration(p_h, Stopping_Threshold , discount_factor)\n",
    "print(\"Policy:\", policy)\n",
    "print(\"Value Functions:\", values)\n",
    "plot_values(values)\n",
    "plot_policy(policy)"
   ]
  },
  {
   "cell_type": "markdown",
   "metadata": {
    "id": "QJRdcVBj7CFZ"
   },
   "source": [
    "Results for **p_h = 0.55**:"
   ]
  },
  {
   "cell_type": "code",
   "execution_count": 61,
   "metadata": {
    "colab": {
     "base_uri": "https://localhost:8080/",
     "height": 972
    },
    "id": "EJqOrCFI64Af",
    "outputId": "24579de1-b49c-4d8e-8ee5-ac06593541b1"
   },
   "outputs": [
    {
     "name": "stdout",
     "output_type": "stream",
     "text": [
      "Policy: [ 0.  1.  2.  3.  4.  5.  6.  7.  8.  9. 10. 11. 12. 13. 14. 15. 16. 17.\n",
      " 18. 19. 20. 21. 22. 23. 24. 25. 26. 27. 28. 29. 30. 31. 32. 33. 34. 35.\n",
      " 36. 37. 38. 39. 40. 41. 42. 43. 44. 45. 46. 47. 48. 49. 25. 26. 27. 28.\n",
      " 29. 30. 31. 32. 33. 34. 35. 36. 37.  1. 14. 15. 16. 17. 18. 19. 20. 21.\n",
      " 22. 23. 24. 25.  2.  4.  3. 17.  7.  6.  7.  8.  9. 10. 11. 12.  1.  2.\n",
      "  9.  4.  5.  6.  5.  3.  3.  1.  2.  1.]\n",
      "Value Function: [0.         0.00999999 0.02       0.03       0.04       0.05\n",
      " 0.06       0.07       0.08       0.09       0.1        0.11\n",
      " 0.12       0.13       0.14       0.15       0.16       0.17\n",
      " 0.18       0.19       0.2        0.21       0.22       0.23\n",
      " 0.24       0.25       0.26       0.27       0.28       0.29\n",
      " 0.3        0.31       0.32       0.33       0.34       0.35\n",
      " 0.36       0.37       0.38       0.39       0.4        0.41\n",
      " 0.42       0.43       0.44       0.45       0.46       0.47\n",
      " 0.48       0.49       0.5        0.51       0.52       0.53\n",
      " 0.54       0.55       0.56       0.57       0.58       0.59\n",
      " 0.6        0.61       0.62       0.63       0.64       0.65\n",
      " 0.66       0.67       0.68       0.69       0.7        0.71\n",
      " 0.72       0.73       0.74       0.75       0.76       0.77\n",
      " 0.78       0.79       0.8        0.81       0.82       0.83\n",
      " 0.84       0.85       0.86       0.87       0.88       0.89\n",
      " 0.9        0.91       0.92       0.93       0.94       0.95\n",
      " 0.96       0.97       0.98       0.99       0.        ]\n"
     ]
    },
    {
     "data": {
      "image/png": "[encoded data removed]",
      "text/plain": [
       "<Figure size 432x288 with 1 Axes>"
      ]
     },
     "metadata": {
      "needs_background": "light"
     },
     "output_type": "display_data"
    },
    {
     "data": {
      "image/png": "[encoded data removed]",
      "text/plain": [
       "<Figure size 432x288 with 1 Axes>"
      ]
     },
     "metadata": {
      "needs_background": "light"
     },
     "output_type": "display_data"
    }
   ],
   "source": [
    "Stopping_Threshold = 0.0001\n",
    "discount_factor = 1.0\n",
    "p_h = 0.5\n",
    "policy, values = Value_Iteration(p_h, Stopping_Threshold, discount_factor)\n",
    "print(\"Policy:\", policy)\n",
    "print(\"Value Function:\", values)\n",
    "plot_values(values)\n",
    "plot_policy(policy)"
   ]
  }
 ],
 "metadata": {
  "colab": {
   "provenance": []
  },
  "gpuClass": "standard",
  "kernelspec": {
   "display_name": "Python 3",
   "language": "python",
   "name": "python3"
  },
  "language_info": {
   "codemirror_mode": {
    "name": "ipython",
    "version": 3
   },
   "file_extension": ".py",
   "mimetype": "text/x-python",
   "name": "python",
   "nbconvert_exporter": "python",
   "pygments_lexer": "ipython3",
   "version": "3.8.5"
  }
 },
 "nbformat": 4,
 "nbformat_minor": 1
}
